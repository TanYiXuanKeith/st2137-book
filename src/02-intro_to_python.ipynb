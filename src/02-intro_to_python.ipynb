{
 "cells": [
  {
   "cell_type": "code",
   "execution_count": null,
   "metadata": {},
   "outputs": [],
   "source": [
    "import this"
   ]
  },
  {
   "cell_type": "code",
   "execution_count": null,
   "metadata": {},
   "outputs": [],
   "source": [
    "x = [1, 3, 5, 7, 8, 9, 10]\n",
    "\n",
    "# The following is OK, because \"x\" is a list, and hence mutable\n",
    "x[3] = 17     \n",
    "print(x)  "
   ]
  },
  {
   "cell_type": "code",
   "execution_count": null,
   "metadata": {},
   "outputs": [],
   "source": [
    "#| eval: false\n",
    "\n",
    "# The following will return an error, because x_tuple is a tuple, and hence immutable.\n",
    "x_tuple = (1, 3, 5, 6, 8, 9, 10)\n",
    "x_tuple[3] = 17 "
   ]
  },
  {
   "cell_type": "code",
   "execution_count": null,
   "metadata": {},
   "outputs": [],
   "source": [
    "x_list = [1, 2, 3]\n",
    "x_tuple = (1, 2, 3)\n",
    "x_dict = {'a': 1, 'b': 2, 'c': 3} # access with x_dict['a']"
   ]
  },
  {
   "cell_type": "code",
   "execution_count": null,
   "metadata": {},
   "outputs": [],
   "source": [
    "char_list = ['P', 'y', 't', 'h', 'o', 'n']\n",
    "char_list[0]           # returns first element\n",
    "char_list[-1]          # returns last element\n",
    "len(char_list)         # returns number of elements in list-like object.\n",
    "char_list[::2]         # from first to last, every 2 apart."
   ]
  },
  {
   "cell_type": "code",
   "execution_count": null,
   "metadata": {},
   "outputs": [],
   "source": [
    "import numpy as np\n",
    "\n",
    "array1 = np.array([1, 2, 3, 4, 5])\n",
    "array2 = np.array([6, 7, 8, 9, 10])\n",
    "matrix1 = np.array([array1, array2])\n",
    "print(matrix1)"
   ]
  },
  {
   "cell_type": "code",
   "execution_count": null,
   "metadata": {},
   "outputs": [],
   "source": [
    "matrix1[0, 0::3]       # returns first row, columns 1 and 4\n",
    "matrix1[1, 1:3]        # returns second row, columns 2 and 3"
   ]
  },
  {
   "cell_type": "code",
   "execution_count": null,
   "metadata": {},
   "outputs": [],
   "source": [
    "# To obtain the dimensions of an array:\n",
    "matrix1.shape\n",
    "# To transpose a 2-D array\n",
    "matrix1.T"
   ]
  },
  {
   "cell_type": "code",
   "execution_count": null,
   "metadata": {},
   "outputs": [],
   "source": [
    "np.vstack([matrix1, array1])\n",
    "\n",
    "np.hstack([array1.reshape((5,1)), \n",
    "           array2.reshape((5,1)),\n",
    "           matrix1.T])"
   ]
  },
  {
   "cell_type": "code",
   "execution_count": null,
   "metadata": {},
   "outputs": [],
   "source": [
    "import pandas as pd\n",
    "\n",
    "data = {'X': [1,2,3,4,5,6], 'Y': [6,5,4,3,2,1]}\n",
    "df = pd.DataFrame(data, columns =['X', 'Y'])\n",
    "print(df)"
   ]
  },
  {
   "cell_type": "code",
   "execution_count": null,
   "metadata": {},
   "outputs": [],
   "source": [
    "col_x = df.X\n",
    "col_x[0:3]"
   ]
  },
  {
   "cell_type": "code",
   "execution_count": null,
   "metadata": {},
   "outputs": [],
   "source": [
    "data1 = pd.read_table('data/crab.txt', header=0, \n",
    "                      delim_whitespace=True)\n",
    "data1.head()"
   ]
  },
  {
   "cell_type": "code",
   "execution_count": null,
   "metadata": {},
   "outputs": [],
   "source": [
    "varnames = [\"Subject\", \"Gender\", \"CA1\", \"CA2\", \"HW\"]\n",
    "data2 = pd.read_table('data/ex_1.txt', header=None,  \n",
    "                      names=varnames, delim_whitespace=True)\n",
    "data2"
   ]
  },
  {
   "cell_type": "code",
   "execution_count": null,
   "metadata": {},
   "outputs": [],
   "source": [
    "# retrieve rows 0,1,2 and columns from color to width\n",
    "data1.loc[0:2, 'color':'width']\n",
    "\n",
    "# retrieve every second row starting from row 0 until row 5, and all columns\n",
    "data1.loc[0:5:2, ]"
   ]
  },
  {
   "cell_type": "code",
   "execution_count": null,
   "metadata": {},
   "outputs": [],
   "source": [
    "data1.iloc[0:2, 0:2]"
   ]
  },
  {
   "cell_type": "code",
   "execution_count": null,
   "metadata": {},
   "outputs": [],
   "source": [
    "data2[data2.Gender == \"M\"]\n",
    "\n",
    "data2[(data2.Gender == \"M\") & (data2.CA2 > 85)]"
   ]
  },
  {
   "cell_type": "code",
   "execution_count": null,
   "metadata": {},
   "outputs": [],
   "source": [
    "for i in x:\n",
    "  print(f\"The current element is {i}.\")"
   ]
  },
  {
   "cell_type": "code",
   "execution_count": null,
   "metadata": {},
   "outputs": [],
   "source": [
    "dict1 = {'holmes': 'male', 'watson': 'male', 'mycroft': 'male', \n",
    "         'hudson': 'female', 'moriarty': 'male', 'adler': 'female'}\n",
    "# dict1['hudson']\n",
    "\n",
    "for x in dict1.keys():\n",
    "    print(f\"The gender of {x} is {dict1[x]}\")"
   ]
  },
  {
   "cell_type": "code",
   "execution_count": null,
   "metadata": {},
   "outputs": [],
   "source": [
    "x = 0          \n",
    "test = True \n",
    "\n",
    "while test:\n",
    "    x += 1  \n",
    "    test = x < 6\n",
    "    print(f\"{x**2}, {test}\")"
   ]
  },
  {
   "cell_type": "code",
   "execution_count": null,
   "metadata": {},
   "outputs": [],
   "source": [
    "for y in np.arange(6):\n",
    "    print(f\"The square of {y} is {y**2}.\")"
   ]
  },
  {
   "cell_type": "code",
   "execution_count": null,
   "metadata": {},
   "outputs": [],
   "source": [
    "#| eval: false\n",
    "def fn_name(arguments):\n",
    "  Python statements\n",
    "  ...\n",
    "  Returned object"
   ]
  },
  {
   "cell_type": "code",
   "execution_count": null,
   "metadata": {},
   "outputs": [],
   "source": [
    "import math\n",
    "\n",
    "def circumference(radius):\n",
    "    return 2 * math.pi * radius \n",
    "\n",
    "circumference(1.3)"
   ]
  },
  {
   "cell_type": "code",
   "execution_count": null,
   "metadata": {},
   "outputs": [],
   "source": [
    "#| eval: false\n",
    "pd.read_csv?"
   ]
  }
 ],
 "metadata": {
  "kernelspec": {
   "display_name": "Python 3 (ipykernel)",
   "language": "python",
   "name": "python3"
  },
  "language_info": {
   "codemirror_mode": {
    "name": "ipython",
    "version": 3
   },
   "file_extension": ".py",
   "mimetype": "text/x-python",
   "name": "python",
   "nbconvert_exporter": "python",
   "pygments_lexer": "ipython3",
   "version": "3.12.7"
  }
 },
 "nbformat": 4,
 "nbformat_minor": 4
}
